{
 "metadata": {
  "kernelspec": {
   "display_name": "Python 3",
   "language": "python",
   "name": "python3"
  },
  "language_info": {
   "codemirror_mode": {
    "name": "ipython",
    "version": 3
   },
   "file_extension": ".py",
   "mimetype": "text/x-python",
   "name": "python",
   "nbconvert_exporter": "python",
   "pygments_lexer": "ipython3",
   "version": "3.5.2"
  },
  "name": "",
  "widgets": {
   "state": {},
   "version": "1.1.2"
  }
 },
 "nbformat": 3,
 "nbformat_minor": 0,
 "worksheets": [
  {
   "cells": [
    {
     "cell_type": "code",
     "collapsed": true,
     "input": [
      "import matplotlib.pyplot as plt\n",
      "import numpy as np\n",
      "import cv2 \n",
      "import pickle\n",
      "%matplotlib inline\n",
      "\n",
      "from scipy.misc import imread\n",
      "from birdseye import BirdsEye\n",
      "from lanefilter import LaneFilter\n",
      "from curves import Curves\n",
      "from helpers import show_images, save_image, roi\n",
      "from moviepy.editor import VideoFileClip\n",
      "from IPython.display import HTML"
     ],
     "language": "python",
     "metadata": {
      "deletable": true,
      "editable": true
     },
     "outputs": [],
     "prompt_number": 1
    },
    {
     "cell_type": "code",
     "collapsed": false,
     "input": [
      "calibration_data = pickle.load(open(\"calibration_data.p\", \"rb\" ))\n",
      "\n",
      "matrix = calibration_data['camera_matrix']\n",
      "distortion_coef = calibration_data['distortion_coefficient']\n",
      "\n",
      "source_points = [(580, 460), (205, 720), (1110, 720), (703, 460)]\n",
      "destination_points = [(320, 0), (320, 720), (960, 720), (960, 0)]\n",
      "\n",
      "p = { 'sat_thresh': 120, 'light_thresh': 40, 'light_thresh_agr': 205,\n",
      "      'grad_thresh': (0.7, 1.4), 'mag_thresh': 40, 'x_thresh': 20 }\n",
      "\n",
      "birdsEye = BirdsEye(source_points, destination_points, matrix, distortion_coef)\n",
      "laneFilter = LaneFilter(p)\n",
      "curves = Curves(number_of_windows = 9, margin = 100, minimum_pixels = 50, \n",
      "                ym_per_pix = 30 / 720 , xm_per_pix = 3.7 / 700)"
     ],
     "language": "python",
     "metadata": {
      "deletable": true,
      "editable": true
     },
     "outputs": [],
     "prompt_number": 2
    },
    {
     "cell_type": "code",
     "collapsed": true,
     "input": [
      "def pipeline(img):\n",
      "    \n",
      "  ground_img = birdsEye.undistort(img)\n",
      "  binary = laneFilter.apply(ground_img)\n",
      "  wb = np.logical_and(birdsEye.sky_view(binary), roi(binary)).astype(np.uint8)\n",
      "  result = curves.fit(wb)\n",
      "  ground_img_with_projection = birdsEye.project(ground_img, binary, \n",
      "                                result['pixel_left_best_fit_curve'], result['pixel_right_best_fit_curve'])\n",
      "\n",
      "  text_pos = \"vehicle position: \" + result['vehicle_position_words']\n",
      "  text_l = \"left radius: \" + str(np.round(result['left_radius'], 2)) \n",
      "  text_r = \" right radius: \" + str(np.round(result['right_radius'], 2))    \n",
      "  cv2.putText(ground_img_with_projection, text_l, (20, 40), cv2.FONT_HERSHEY_COMPLEX, 1, (0, 0, 0), 2)\n",
      "  cv2.putText(ground_img_with_projection, text_r, (400, 40), cv2.FONT_HERSHEY_COMPLEX, 1, (0, 0, 0), 2)\n",
      "  cv2.putText(ground_img_with_projection, text_pos, (20, 80), cv2.FONT_HERSHEY_COMPLEX, 1, (0, 0, 0), 2)\n",
      "\n",
      "  return ground_img_with_projection"
     ],
     "language": "python",
     "metadata": {
      "deletable": true,
      "editable": true
     },
     "outputs": [],
     "prompt_number": 3
    },
    {
     "cell_type": "code",
     "collapsed": false,
     "input": [
      "project_output = 'project_video_output.mp4'\n",
      "clip1 = VideoFileClip(\"project_video.mp4\");\n",
      "white_clip = clip1.fl_image(pipeline) \n",
      "%time white_clip.write_videofile(project_output, audio = False);"
     ],
     "language": "python",
     "metadata": {
      "deletable": true,
      "editable": true
     },
     "outputs": [
      {
       "output_type": "stream",
       "stream": "stdout",
       "text": [
        "[MoviePy] >>>> Building video project_video_output.mp4\n",
        "[MoviePy] Writing video project_video_output.mp4\n"
       ]
      },
      {
       "output_type": "stream",
       "stream": "stderr",
       "text": [
        "100%|\u2588\u2588\u2588\u2588\u2588\u2588\u2588\u2588\u2588\u2589| 1260/1261 [06:30<00:00,  3.41it/s]\n"
       ]
      },
      {
       "output_type": "stream",
       "stream": "stdout",
       "text": [
        "[MoviePy] Done.\n",
        "[MoviePy] >>>> Video ready: project_video_output.mp4 \n",
        "\n",
        "CPU times: user 5min 57s, sys: 1min 12s, total: 7min 9s\n",
        "Wall time: 6min 31s\n"
       ]
      }
     ],
     "prompt_number": 4
    },
    {
     "cell_type": "code",
     "collapsed": false,
     "input": [
      "HTML(\"\"\"\n",
      "<video width=\"960\" height=\"540\" controls>\n",
      "  <source src=\"{0}\">\n",
      "</video>\n",
      "\"\"\".format(project_output))"
     ],
     "language": "python",
     "metadata": {
      "deletable": true,
      "editable": true
     },
     "outputs": [
      {
       "html": [
        "\n",
        "<video width=\"960\" height=\"540\" controls>\n",
        "  <source src=\"project_video_output.mp4\">\n",
        "</video>\n"
       ],
       "metadata": {},
       "output_type": "pyout",
       "prompt_number": 5,
       "text": [
        "<IPython.core.display.HTML object>"
       ]
      }
     ],
     "prompt_number": 5
    },
    {
     "cell_type": "code",
     "collapsed": true,
     "input": [],
     "language": "python",
     "metadata": {
      "deletable": true,
      "editable": true
     },
     "outputs": [],
     "prompt_number": null
    },
    {
     "cell_type": "code",
     "collapsed": true,
     "input": [],
     "language": "python",
     "metadata": {
      "deletable": true,
      "editable": true
     },
     "outputs": [],
     "prompt_number": null
    }
   ],
   "metadata": {}
  }
 ]
}